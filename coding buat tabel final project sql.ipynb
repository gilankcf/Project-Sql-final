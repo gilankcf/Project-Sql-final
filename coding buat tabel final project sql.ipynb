{
  "nbformat": 4,
  "nbformat_minor": 0,
  "metadata": {
    "colab": {
      "provenance": []
    },
    "kernelspec": {
      "name": "python3",
      "display_name": "Python 3"
    },
    "language_info": {
      "name": "python"
    }
  },
  "cells": [
    {
      "cell_type": "code",
      "execution_count": 25,
      "metadata": {
        "colab": {
          "base_uri": "https://localhost:8080/"
        },
        "id": "Whaa5wz0q9nX",
        "outputId": "bc91651c-f24b-472c-d2bb-6a838485a79a"
      },
      "outputs": [
        {
          "output_type": "stream",
          "name": "stdout",
          "text": [
            "Requirement already satisfied: faker in /usr/local/lib/python3.10/dist-packages (26.0.0)\n",
            "Requirement already satisfied: python-dateutil>=2.4 in /usr/local/lib/python3.10/dist-packages (from faker) (2.8.2)\n",
            "Requirement already satisfied: six>=1.5 in /usr/local/lib/python3.10/dist-packages (from python-dateutil>=2.4->faker) (1.16.0)\n"
          ]
        }
      ],
      "source": [
        "pip install faker"
      ]
    },
    {
      "cell_type": "code",
      "source": [
        "import random\n",
        "import pandas as pd\n",
        "from faker import Faker"
      ],
      "metadata": {
        "id": "JTbtJVS-rRGN"
      },
      "execution_count": 26,
      "outputs": []
    },
    {
      "cell_type": "code",
      "source": [
        "# Inisialisasi Faker dengan bahasa Indonesia\n",
        "fake = Faker('id_ID')\n",
        "\n",
        "# Membaca data kota dari file city.xlsx\n",
        "city_data = pd.read_excel('city.xlsx')\n",
        "\n",
        "# Menghasilkan data dummy untuk Users\n",
        "num_users = 100  # Ganti sesuai kebutuhan jumlah data yang diinginkan\n",
        "users_data = []\n",
        "\n",
        "for idx in range(num_users):\n",
        "    name = fake.name()\n",
        "    phone = fake.phone_number()\n",
        "    kota_id = random.choice(city_data['kota_id'])  # Memilih secara acak kota_id dari city.xlsx\n",
        "    # Menyertakan user_id dengan nilai berurutan dari 1 sampai num_users\n",
        "    users_data.append({'user_id': idx + 1, 'name': name, 'phone': phone, 'kota_id': kota_id})\n",
        "\n",
        "# Membuat DataFrame dari data pengguna\n",
        "users_df = pd.DataFrame(users_data)\n",
        "\n",
        "# Menyimpan DataFrame ke dalam file CSV\n",
        "users_df.to_csv('users.csv', index=False)\n"
      ],
      "metadata": {
        "id": "ncJgCTJtraIh"
      },
      "execution_count": 27,
      "outputs": []
    },
    {
      "cell_type": "code",
      "source": [
        "# Baca file cars.xlsx\n",
        "cars_df = pd.read_excel('car_product.xlsx')\n",
        "\n",
        "# Baca file users_dummy.csv\n",
        "users_df = pd.read_csv('users.csv')\n",
        "\n",
        "# Baca file city.xlsx\n",
        "cities_df = pd.read_excel('city.xlsx')\n",
        "\n",
        "# Pilih user_id secara acak dari users_df\n",
        "user_ids = users_df['user_id'].tolist()\n",
        "cars_df['user_id'] = [random.choice(user_ids) for _ in range(len(cars_df))]\n",
        "\n",
        "# Pilih kota_id secara acak dari cities_df\n",
        "city_ids = cities_df['kota_id'].tolist()\n",
        "cars_df['kota_id'] = [random.choice(city_ids) for _ in range(len(cars_df))]\n",
        "\n",
        "# Simpan hasilnya ke dalam file CSV baru\n",
        "cars_df.to_csv('cars.csv', index=False)"
      ],
      "metadata": {
        "colab": {
          "base_uri": "https://localhost:8080/"
        },
        "id": "PHqxZ4CK9fAq",
        "outputId": "66bdc7f5-c87b-4c66-ca85-7d5162d795cb"
      },
      "execution_count": 31,
      "outputs": [
        {
          "output_type": "stream",
          "name": "stdout",
          "text": [
            "Data berhasil digabungkan dan disimpan ke cars_with_user_city.csv\n"
          ]
        }
      ]
    },
    {
      "cell_type": "code",
      "source": [
        "import pandas as pd\n",
        "from faker import Faker\n",
        "import random\n",
        "\n",
        "# Inisialisasi Faker\n",
        "faker = Faker('id_ID')\n",
        "\n",
        "# Baca file cars_with_user_city.csv\n",
        "cars_df = pd.read_csv('cars.csv')\n",
        "\n",
        "# Baca file users_dummy.csv\n",
        "users_df = pd.read_csv('users.csv')\n",
        "\n",
        "# Pilih product_id dan user_id dari file yang dibaca\n",
        "product_ids = cars_df['product_id'].tolist()\n",
        "seller_ids = cars_df['user_id'].tolist()  # user_id dari seller\n",
        "user_ids = users_df['user_id'].tolist()\n",
        "\n",
        "# Buat dummy data untuk tabel Bids\n",
        "num_bids = 100  # Jumlah data dummy yang ingin dibuat\n",
        "bids_data = []\n",
        "\n",
        "for i in range(num_bids):\n",
        "    product_id = random.choice(product_ids)\n",
        "    seller_id = cars_df[cars_df['product_id'] == product_id]['user_id'].values[0]\n",
        "\n",
        "    # Pastikan buyer_id bukan seller_id\n",
        "    buyer_id = random.choice([uid for uid in user_ids if uid != seller_id])\n",
        "\n",
        "    bid = {\n",
        "        'bid_id': i + 1,  # Menggunakan i sebagai id yang bertambah\n",
        "        'product_id': product_id,\n",
        "        'buyer_id': buyer_id,\n",
        "        'date_bid': faker.date_between(start_date='-2y', end_date='today'),\n",
        "        'bid_price': random.randint(100000, 200000) * 1000,  # Harga dalam range tertentu\n",
        "        'bid_status': random.choice(['Pending', 'Accepted', 'Rejected'])\n",
        "    }\n",
        "    bids_data.append(bid)\n",
        "\n",
        "# Konversi data ke DataFrame\n",
        "bids_df = pd.DataFrame(bids_data)\n",
        "\n",
        "# Simpan hasilnya ke dalam file CSV baru\n",
        "bids_df.to_csv('bids.csv', index=False)\n"
      ],
      "metadata": {
        "colab": {
          "base_uri": "https://localhost:8080/"
        },
        "id": "xCm8O-z1A7Ol",
        "outputId": "81298f4e-f7b7-443c-f1c8-31ac6be3bad3"
      },
      "execution_count": 34,
      "outputs": [
        {
          "output_type": "stream",
          "name": "stdout",
          "text": [
            "Data dummy untuk tabel Bids berhasil dibuat dan disimpan ke bids_dummy.csv\n"
          ]
        }
      ]
    },
    {
      "cell_type": "code",
      "source": [
        "import pandas as pd\n",
        "from faker import Faker\n",
        "import random\n",
        "\n",
        "# Inisialisasi Faker\n",
        "faker = Faker('id_ID')\n",
        "\n",
        "# Baca file cars_with_user_city.csv\n",
        "cars_df = pd.read_csv('cars_with_user_city.csv')\n",
        "\n",
        "# Buat dummy data untuk tabel Ads\n",
        "num_ads = len(cars_df)  # Jumlah iklan sama dengan jumlah mobil yang ada\n",
        "ads_data = []\n",
        "\n",
        "for index, row in cars_df.iterrows():\n",
        "    ad = {\n",
        "        'ad_id': index + 1,  # Menggunakan index sebagai id yang bertambah\n",
        "        'product_id': row['product_id'],\n",
        "        'title': f\"{row['brand']} {row['model']} {row['year']} {row['body_type']}\",\n",
        "        'description': faker.text(max_nb_chars=200),\n",
        "        'date_post': faker.date_between(start_date='-2y', end_date='today')\n",
        "    }\n",
        "    ads_data.append(ad)\n",
        "\n",
        "# Konversi data ke DataFrame\n",
        "ads_df = pd.DataFrame(ads_data)\n",
        "\n",
        "# Simpan hasilnya ke dalam file CSV baru\n",
        "ads_df.to_csv('ads.csv', index=False)"
      ],
      "metadata": {
        "colab": {
          "base_uri": "https://localhost:8080/"
        },
        "id": "WxrzCj3LCILq",
        "outputId": "fe4f5a18-63e8-4c9d-ff90-ff8fe48f01d5"
      },
      "execution_count": 33,
      "outputs": [
        {
          "output_type": "stream",
          "name": "stdout",
          "text": [
            "Data dummy untuk tabel Ads berhasil dibuat dan disimpan ke ads_dummy.csv\n"
          ]
        }
      ]
    },
    {
      "cell_type": "code",
      "source": [
        "import pandas as pd\n",
        "\n",
        "# Baca file Excel (.xlsx)\n",
        "excel_file = 'city.xlsx'\n",
        "df = pd.read_excel(excel_file)\n",
        "\n",
        "# Simpan ke file CSV\n",
        "csv_file = 'city.csv'\n",
        "df.to_csv(csv_file, index=False)\n"
      ],
      "metadata": {
        "colab": {
          "base_uri": "https://localhost:8080/"
        },
        "id": "GEzkw7w5D9d1",
        "outputId": "9a39904b-5c61-40a8-d43d-ef192e5258a3"
      },
      "execution_count": 36,
      "outputs": [
        {
          "output_type": "stream",
          "name": "stdout",
          "text": [
            "File city.csv berhasil dibuat dari city.xlsx.\n"
          ]
        }
      ]
    },
    {
      "cell_type": "code",
      "source": [],
      "metadata": {
        "id": "qTNaaSfUb0ov"
      },
      "execution_count": null,
      "outputs": []
    }
  ]
}